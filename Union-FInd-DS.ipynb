{
 "cells": [
  {
   "cell_type": "markdown",
   "id": "44617ad4-5098-4f16-b622-c5a9510ee158",
   "metadata": {},
   "source": [
    "# Implementation of a Union-Find Data Structure with rank-compression."
   ]
  },
  {
   "cell_type": "code",
   "execution_count": 11,
   "id": "5c9c03e5-75c4-4317-b57c-e47cc014beb9",
   "metadata": {},
   "outputs": [],
   "source": [
    "class DisjointForests:\n",
    "    def __init__(self, n):\n",
    "        assert n >= 1, 'Empty disjoint forest is not allowed.'\n",
    "        self.n = n\n",
    "        self.parents = [None]*n\n",
    "        self.rank = [None]*n\n",
    "        \n",
    "    # Converts the forest into a dictionary of sets\n",
    "    def dictionary_of_sets(self):\n",
    "        d = {}\n",
    "        for i in range(self.n):\n",
    "            if self.is_representative(i):\n",
    "                d[i] = set([i])\n",
    "        for j in range(self.n):\n",
    "            if self.parents[j] is not None:\n",
    "                root = self.find(j)\n",
    "                assert root in d\n",
    "                d[root].add(j)\n",
    "        return d\n",
    "    \n",
    "    def make_set(self, j):\n",
    "        assert 0 <= j < self.n\n",
    "        assert self.parents[j] is None, 'j is already a member of some set.'\n",
    "        self.parents[j] = j\n",
    "        self.rank[j] = 1\n",
    "        \n",
    "    def is_representative(self, j):\n",
    "        return self.parents[j] == j\n",
    "    \n",
    "    def get_rank(self, j):\n",
    "        return self.rank[j]\n",
    "    \n",
    "    # Return the representative of the set to which j belongs to.\n",
    "    # The algorithm employs the strategy of rank compression.\n",
    "    def find(self, j):\n",
    "        assert 0 <= j <= self.n\n",
    "        assert self.parents[j] is not None, 'j is not a member of the forest.'\n",
    "        if self.parents[j] == j:\n",
    "            return j\n",
    "        self.parents[j] = self.find(self.parents[j])\n",
    "        return self.parents[j]\n",
    "    \n",
    "    def link(self, i, j):\n",
    "        if self.rank[j] > self.rank[i]:\n",
    "            self.parents[i] = j\n",
    "            return\n",
    "        self.parents[j] = i\n",
    "        if self.rank[i] == self.rank[j]:\n",
    "            self.rank[i] += 1\n",
    "            \n",
    "    # Compute union of j1 and j2.\n",
    "    def union(self, j1, j2):\n",
    "        assert 0 <= j1 < self.n\n",
    "        assert 0 <= j2 < self.n\n",
    "        assert self.parents[j1] != None\n",
    "        assert self.parents[j2] != None\n",
    "        rep1 = self.find(j1)\n",
    "        rep2 = self.find(j2)\n",
    "        if rep1 != rep2:\n",
    "            self.link(rep1, rep2)\n",
    "        "
   ]
  },
  {
   "cell_type": "code",
   "execution_count": 12,
   "id": "923bb02b-d191-457d-a443-c928f4246cf6",
   "metadata": {},
   "outputs": [
    {
     "name": "stdout",
     "output_type": "stream",
     "text": [
      "-- All tests passed --\n"
     ]
    }
   ],
   "source": [
    "# Testing the disjoint set data structure.\n",
    "d = DisjointForests(10)\n",
    "\n",
    "for i in range(10):\n",
    "    d.make_set(i)\n",
    "    \n",
    "for i in range(10):\n",
    "    assert d.find(i) == i, f'Failed: Find on {i} must return {i} back'\n",
    "    \n",
    "d.union(0,1)\n",
    "d.union(2,3)\n",
    "assert(d.find(0) == d.find(1)), '0 and 1 have been union-ed together'\n",
    "assert(d.find(2) == d.find(3)), '2 and 3 have been union-ed together'\n",
    "assert(d.find(0) != d.find(3)), '0 and 3 should be in different trees'\n",
    "assert((d.get_rank(0) == 2 and d.get_rank(1) == 1) or\n",
    "(d.get_rank(1) == 2 and d.get_rank(0) == 1)), 'one of the nodes 0 or 1 must have rank 2'\n",
    "assert((d.get_rank(2) == 2 and d.get_rank(3) == 1) or\n",
    "(d.get_rank(3) == 2 and d.get_rank(2) == 1)), 'one of the nodes 2 or 3 must have rank 2'\n",
    "\n",
    "d.union(3,4)\n",
    "assert(d.find(2) == d.find(4)), '2 and 4 must be in the same set in the family.'\n",
    "\n",
    "d.union(5,7)\n",
    "d.union(6,8)\n",
    "d.union(3,7)\n",
    "d.union(0,6)\n",
    "\n",
    "assert(d.find(6) == d.find(1)), '1 and 6 must be in the same set in the family'\n",
    "assert(d.find(7) == d.find(4)), '7 and 4 must be in the same set in the family'\n",
    "print('-- All tests passed --')"
   ]
  },
  {
   "cell_type": "markdown",
   "id": "d2b22a97-85f0-449e-8cbd-7d3e3f7ed9df",
   "metadata": {},
   "source": [
    "# Implementing an Undirected graph."
   ]
  },
  {
   "cell_type": "code",
   "execution_count": 13,
   "id": "f41462e4-eb16-4726-9380-595ac2187716",
   "metadata": {},
   "outputs": [],
   "source": [
    "class UndirectedGraph:\n",
    "    def __init__(self, n):\n",
    "        assert n >= 1, 'Empty graphs not allowed.'\n",
    "        self.n = n\n",
    "        self.edges = []\n",
    "        self.vertex_data = [None]*self.n\n",
    "        \n",
    "    def set_vertex_data(self, j, dat):\n",
    "        assert 0 <= j < self.n\n",
    "        self.vertex_data[j] = dat\n",
    "    \n",
    "    def get_vertex_data(self, j):\n",
    "        assert 0 <= j < self.n\n",
    "        return self.vertex_data[j]\n",
    "    \n",
    "    def add_edge(self, i, j, wij):\n",
    "        assert 0 <= i < self.n\n",
    "        assert 0 <= j < self.n\n",
    "        assert i != j\n",
    "        self.edges.append((i, j, wij))\n",
    "        \n",
    "    def sort_edges(self):\n",
    "    # sort edges in ascending order of weights.\n",
    "        self.edges = sorted(self.edges, key=lambda edg_data: edg_data[2])"
   ]
  },
  {
   "cell_type": "markdown",
   "id": "4c788916-41ad-47f4-8ef2-cc94d353d077",
   "metadata": {},
   "source": [
    "# Using the union find data structure for finding strongly connected components in a graph."
   ]
  },
  {
   "cell_type": "code",
   "execution_count": 15,
   "id": "a1e1a6f7-ea2a-414f-8db6-2fb31032ded8",
   "metadata": {},
   "outputs": [],
   "source": [
    "def compute_scc(g, W): # W is the weight threshold.\n",
    "    d = DisjointForests(g.n)\n",
    "    for i in range(len(g.vertex_data)):\n",
    "        g.vertex_data[i] = i\n",
    "        d.make_set(i)\n",
    "    for u, v, w in g.edges:\n",
    "        if w <= W:\n",
    "            if d.find(u) != d.find(v):\n",
    "                d.union(u, v)\n",
    "    return d.dictionary_of_sets()"
   ]
  },
  {
   "cell_type": "code",
   "execution_count": 16,
   "id": "1303d6e3-a435-43d1-975d-818910769172",
   "metadata": {},
   "outputs": [
    {
     "name": "stdout",
     "output_type": "stream",
     "text": [
      "SCCs with threshold 2.0 computed by your code are:\n",
      "{0, 1, 2, 3, 4}\n",
      "{5, 6, 7}\n",
      "SCCs with threshold 1.5\n",
      "{0, 1, 2, 3, 4}\n",
      "{5}\n",
      "{6}\n",
      "{7}\n",
      "-- All tests passed --\n"
     ]
    }
   ],
   "source": [
    "# Running test cases.\n",
    "\n",
    "g3 = UndirectedGraph(8)\n",
    "g3.add_edge(0,1,0.5)\n",
    "g3.add_edge(0,2,1.0)\n",
    "g3.add_edge(0,4,0.5)\n",
    "g3.add_edge(2,3,1.5)\n",
    "g3.add_edge(2,4,2.0)\n",
    "g3.add_edge(3,4,1.5)\n",
    "g3.add_edge(5,6,2.0)\n",
    "g3.add_edge(5,7,2.0)\n",
    "res = compute_scc(g3, 2.0)\n",
    "print('SCCs with threshold 2.0 computed by your code are:')\n",
    "assert len(res) == 2, f'Expected 2 SCCs but got {len(res)}'\n",
    "for (k, s) in res.items():\n",
    "    print(s)\n",
    "    \n",
    "# Let us check that your code returns what we expect.\n",
    "for (k, s) in res.items():\n",
    "    if (k in [0,1,2,3,4]):\n",
    "        assert (s == set([0,1,2,3,4])), '{0,1,2,3,4} should be an SCC'\n",
    "    if (k in [5,6,7]):\n",
    "        assert (s == set([5,6,7])), '{5,6,7} should be an SCC'\n",
    "        \n",
    "# Let us check that the thresholding works\n",
    "print('SCCs with threshold 1.5')\n",
    "res2 = compute_scc(g3, 1.5) # This cutsoff edges 2,4 and 5, 6, 7\n",
    "for (k, s) in res2.items():\n",
    "    print(s)\n",
    "assert len(res2) == 4, f'Expected 4 SCCs but got {len(res2)}'\n",
    "\n",
    "for (k, s) in res2.items():\n",
    "    if k in [0,1,2,3,4]:\n",
    "        assert (s == set([0,1,2,3,4])), '{0,1,2,3,4} should be an SCC'\n",
    "    if k in [5]:\n",
    "        assert s == set([5]), '{5} should be an SCC with just a single node.'\n",
    "    if k in [6]:\n",
    "        assert s == set([6]), '{6} should be an SCC with just a single node.'\n",
    "    if k in [7]:\n",
    "        assert s == set([7]), '{7} should be an SCC with just a single node.'\n",
    "        \n",
    "print('-- All tests passed --')"
   ]
  },
  {
   "cell_type": "markdown",
   "id": "8ebc1915-4197-479f-8fec-46f4f8fbc770",
   "metadata": {},
   "source": [
    "# Computing the minimum spanning tree using Kruskal's algorithm."
   ]
  },
  {
   "cell_type": "code",
   "execution_count": 17,
   "id": "c5f296ed-3afe-4e13-b6ae-67c5943eb0f2",
   "metadata": {},
   "outputs": [],
   "source": [
    "def compute_mst(g):\n",
    "    d = DisjointForests(g.n)\n",
    "    mst_edges = []\n",
    "    g.sort_edges()\n",
    "    tot_w = 0 # Total weight of the mst.\n",
    "    for i in range(len(g.vertex_data)):\n",
    "        d.make_set(i)\n",
    "    \n",
    "    for edge in g.edges:\n",
    "        if d.find(edge[0]) != d.find(edge[1]):\n",
    "            mst_edges.append(edge)\n",
    "            d.union(edge[0], edge[1])\n",
    "            tot_w += edge[2]\n",
    "    return (mst_edges, tot_w)"
   ]
  },
  {
   "cell_type": "code",
   "execution_count": 18,
   "id": "e74c5333-1711-4e3a-8f61-8df09ac13e18",
   "metadata": {},
   "outputs": [
    {
     "name": "stdout",
     "output_type": "stream",
     "text": [
      "Your code computed MST: \n",
      "\t (0, 1) weight 0.5\n",
      "\t (0, 4) weight 0.5\n",
      "\t (0, 2) weight 1.0\n",
      "\t (2, 3) weight 1.5\n",
      "\t (5, 6) weight 2.0\n",
      "\t (5, 7) weight 2.0\n",
      "\t (3, 5) weight 2.0\n",
      "Total edge weight: 9.5\n",
      "-- All tests passed --\n"
     ]
    }
   ],
   "source": [
    "# Running tests\n",
    "\n",
    "g3 = UndirectedGraph(8)\n",
    "g3.add_edge(0,1,0.5)\n",
    "g3.add_edge(0,2,1.0)\n",
    "g3.add_edge(0,4,0.5)\n",
    "g3.add_edge(2,3,1.5)\n",
    "g3.add_edge(2,4,2.0)\n",
    "g3.add_edge(3,4,1.5)\n",
    "g3.add_edge(5,6,2.0)\n",
    "g3.add_edge(5,7,2.0)\n",
    "g3.add_edge(3,5,2.0)\n",
    "\n",
    "\n",
    "(mst_edges, mst_weight) = compute_mst(g3)\n",
    "print('Your code computed MST: ')\n",
    "for (i,j,wij) in mst_edges:\n",
    "    print(f'\\t {(i,j)} weight {wij}')\n",
    "    \n",
    "print(f'Total edge weight: {mst_weight}')\n",
    "\n",
    "assert mst_weight == 9.5, 'Optimal MST weight is expected to be 9.5'\n",
    "assert (0,1,0.5) in mst_edges\n",
    "assert (0,2,1.0) in mst_edges\n",
    "assert (0,4,0.5) in mst_edges\n",
    "assert (5,6,2.0) in mst_edges\n",
    "assert (5,7,2.0) in mst_edges\n",
    "assert (3,5,2.0) in mst_edges\n",
    "assert (2,3, 1.5) in mst_edges or (3,4, 1.5) in mst_edges\n",
    "print('-- All tests passed --')"
   ]
  },
  {
   "cell_type": "code",
   "execution_count": null,
   "id": "c472980e-6f68-4820-91bb-94c023bcfadd",
   "metadata": {},
   "outputs": [],
   "source": []
  }
 ],
 "metadata": {
  "kernelspec": {
   "display_name": "Python 3 (ipykernel)",
   "language": "python",
   "name": "python3"
  },
  "language_info": {
   "codemirror_mode": {
    "name": "ipython",
    "version": 3
   },
   "file_extension": ".py",
   "mimetype": "text/x-python",
   "name": "python",
   "nbconvert_exporter": "python",
   "pygments_lexer": "ipython3",
   "version": "3.9.7"
  }
 },
 "nbformat": 4,
 "nbformat_minor": 5
}
