{
 "cells": [
  {
   "cell_type": "markdown",
   "id": "213569a7-0f57-4ca5-b2fc-887d33ad0b09",
   "metadata": {},
   "source": [
    "## Implementation of Binary Search Tree\n",
    "\n",
    "A binary search tree is a data structure which allows insertion, deletion and searching in \n",
    "O(h) time complexity where h is the height of the tree.\n",
    "We would like to make sure the tree is as balanced as possible to achieve logarithmic time\n",
    "complexity."
   ]
  },
  {
   "cell_type": "code",
   "execution_count": 29,
   "id": "313ccd54-6ee3-4852-b119-51635b660f32",
   "metadata": {},
   "outputs": [],
   "source": [
    "class Node:\n",
    "    # Constructor for a node in BST.\n",
    "    # Parent is none for the root node.\n",
    "    def __init__(self, key, parent = None):\n",
    "        self.key = key\n",
    "        self.parent = parent\n",
    "        self.left = None\n",
    "        self.right = None\n",
    "        if parent is not None:\n",
    "            if key < parent.key:\n",
    "                assert(parent.left == None), 'Assertion failed, parent already has a left child.'\n",
    "                parent.left = self\n",
    "            else:\n",
    "                assert(parent.key < key), 'Dublicate elements not allowed.'\n",
    "                assert(parent.right == None), 'Assertion failed, parent already has a right child.'\n",
    "                parent.right = self\n",
    "    \n",
    "    # Utility function which keeps traversing left until it finds the leftmost descendant.\n",
    "    def get_leftmost_descendant(self):\n",
    "        # Iterative implementation\n",
    "        # while self.left != None:\n",
    "        #    self = self.left\n",
    "        # return self\n",
    "        # Recursive implementation\n",
    "        if self.left is None:\n",
    "            return self\n",
    "        return self.left.get_leftmost_descendant()\n",
    "    \n",
    "    # Function for searching a node with a specific key in the list.\n",
    "    def search(self, key):\n",
    "        if self.key == key:\n",
    "            return (True, self)\n",
    "        elif self.key > key:\n",
    "            if self.left is None:\n",
    "                return (False, self)\n",
    "            return self.left.search(key)\n",
    "        else:\n",
    "            if self.right is None:\n",
    "                return (False, self)\n",
    "            return self.right.search(key)\n",
    "        # Iterative implementation\n",
    "        # while self.key != key:\n",
    "        #    if self.key > key:\n",
    "        #        if self.left is None:\n",
    "        #            return (False, self)\n",
    "        #        self = self.left\n",
    "        #    else:\n",
    "        #        if self.right is None:\n",
    "        #            return (False, self)\n",
    "        #        self = self.right\n",
    "        # return (True, self)\n",
    "    \n",
    "    # Function to perform insertion in the BST.\n",
    "    def insert(self, key):\n",
    "        return Node(key, self.search(key)[1])\n",
    "    \n",
    "    # Computes the height of the tree.\n",
    "    def height(self):\n",
    "        if self == None:\n",
    "            return 0\n",
    "        return max(Node.height(self.left), Node.height(self.right)) + 1\n",
    "    \n",
    "    # Utility function to replace a sub-tree with another sub-tree.\n",
    "    def transplant(self, replacement):\n",
    "        # If the surrent node is the root, than make the replacement the new root.\n",
    "        if self.parent == None:\n",
    "            replacement.parent = None\n",
    "        # If the current node is the left child of its parent, than\n",
    "        # make the replacement the left child.\n",
    "        elif self == self.parent.left:\n",
    "            self.parent.left = replacement\n",
    "        # Else make replacement the right child.\n",
    "        else:\n",
    "            self.parent.right = replacement\n",
    "        # If the replacement is not a null node than update its parent.\n",
    "        if replacement is not None:\n",
    "            replacement.parent = self.parent\n",
    "            \n",
    "    # Function to perform deletion in the list.\n",
    "    def delete(self, key):\n",
    "        found, node_to_delete = self.search(key)\n",
    "        assert(found == True), 'Node to be deleted is not a member of the tree.'\n",
    "        # If the node has no left sub-tree, replace it with the right sub-tree.\n",
    "        if node_to_delete.left is None:\n",
    "            node_to_delete.transplant(node_to_delete.right)\n",
    "        # Otherwise replace it with its left sub-tree.\n",
    "        elif node_to_delete.right is None:\n",
    "            node_to_delete.transplant(node_to_delete.left)\n",
    "        # Lastly the node we are trying to delete has a left and a rightsub-tree..\n",
    "        else:\n",
    "            # Find the successor of the node.\n",
    "            replacement = node_to_delete.right.get_leftmost_descendant()\n",
    "            if replacement.parent != node_to_delete:\n",
    "                replacement.transplant(replacement.right)\n",
    "                replacement.right = node_to_delete.right\n",
    "                replacement.right.parent = replacement\n",
    "            node_to_delete.transplant(replacement)\n",
    "            replacement.left = node_to_delete.left\n",
    "            replacement.left.parent = replacement"
   ]
  },
  {
   "cell_type": "markdown",
   "id": "30a9a110-8500-44eb-8ed8-3efb09b73d8e",
   "metadata": {},
   "source": [
    "## Running test cases in the BST."
   ]
  },
  {
   "cell_type": "code",
   "execution_count": 30,
   "id": "92ea4a97-efd0-44ea-931c-2baec901ac58",
   "metadata": {},
   "outputs": [
    {
     "name": "stdout",
     "output_type": "stream",
     "text": [
      "-- Testing basic node construction -- \n",
      "-- Testing search -- \n",
      "-- Testing insert -- \n",
      "-- Testing height -- \n",
      "-- All tests passed --\n"
     ]
    }
   ],
   "source": [
    "t1 = Node(25, None)\n",
    "t2 = Node(12, t1)\n",
    "t3 = Node(18, t2)\n",
    "t4 = Node(40, t1)\n",
    "\n",
    "print('-- Testing basic node construction -- ')\n",
    "assert(t1.left == t2), 'test 1 failed'\n",
    "assert(t2.parent == t1), 'test 2 failed'\n",
    "assert(t2.right == t3), 'test 3 failed'\n",
    "assert (t3.parent == t2), 'test 4 failed'\n",
    "assert(t1.right == t4), 'test 5 failed'\n",
    "assert(t4.left == None), 'test 6 failed'\n",
    "assert(t4.right == None), 'test 7 failed'\n",
    "# The tree should be :\n",
    "#       25\n",
    "#       /\\\n",
    "#     12 40\n",
    "#     /\\\n",
    "# None 18\n",
    "\n",
    "print('-- Testing search -- ')\n",
    "(b, found_node) = t1.search(18)\n",
    "assert b and found_node.key == 18, 'test 8 failed'\n",
    "(b, found_node) = t1.search(25)\n",
    "assert b and found_node.key == 25, 'test 9 failed -- you should find the node with key 25 which is the root'\n",
    "(b, found_node) = t1.search(26)\n",
    "assert(not b), 'test 10 failed'\n",
    "assert(found_node.key == 40), 'test 11 failed -- you should be returning the leaf node which would be the parent to the node you failed to find if it were to be inserted in the tree.'\n",
    "\n",
    "print('-- Testing insert -- ')\n",
    "ins_node = t1.insert(26)\n",
    "assert ins_node.key == 26, ' test 12 failed '\n",
    "assert ins_node.parent == t4, ' test 13 failed '\n",
    "assert t4.left == ins_node, ' test 14 failed '\n",
    "ins_node2 = t1.insert(33)\n",
    "assert ins_node2.key == 33, 'test 15 failed'\n",
    "assert ins_node2.parent == ins_node, 'test 16 failed'\n",
    "assert ins_node.right == ins_node2, 'test 17 failed'\n",
    "print('-- Testing height -- ')\n",
    "assert t1.height() == 4, 'test 18 failed'\n",
    "\n",
    "print('-- All tests passed --')"
   ]
  },
  {
   "cell_type": "code",
   "execution_count": 31,
   "id": "e12f4baf-7239-474b-bf33-753f5b688107",
   "metadata": {},
   "outputs": [
    {
     "name": "stdout",
     "output_type": "stream",
     "text": [
      "-- All tests passed --\n"
     ]
    }
   ],
   "source": [
    "# Testing deletion.\n",
    "\n",
    "# Testing deletion\n",
    "t1 = Node(16, None)\n",
    "# insert the nodes in the list\n",
    "lst = [18,25,10, 14, 8, 22, 17, 12]\n",
    "for elt in lst:\n",
    "    t1.insert(elt)\n",
    "\n",
    "\n",
    "# The tree should look like this\n",
    "#           16\n",
    "#          / \\\n",
    "#        10 18\n",
    "#      / \\ / \\\n",
    "#    8 14 17 25\n",
    "#     /     /\n",
    "#   12     22\n",
    "\n",
    "# Let us test the three deletion cases.\n",
    "# case 1 let's delete node 8\n",
    "# node 8 does not have left or right children.\n",
    "t1.delete(8) # should have both children nil.\n",
    "(b8,n8) = t1.search(8)\n",
    "assert not b8, 'Test A: deletion fails to delete node.'\n",
    "(b,n) = t1.search(10)\n",
    "assert( b) , 'Test B failed: search does not work'\n",
    "assert n.left == None, 'Test C failed: Node 8 was not properly deleted.'\n",
    "\n",
    "\n",
    "# Let us test deleting the node 14 whose right child is none.\n",
    "# n is still pointing to the node 10 after deleting 8.\n",
    "# let us ensure that it's right child is 14\n",
    "assert n.right != None, 'Test D failed: node 10 should have right child 14'\n",
    "assert n.right.key == 14, 'Test E failed: node 10 should have right child 14'\n",
    "\n",
    "\n",
    "# Let's delete node 14\n",
    "t1.delete(14)\n",
    "(b14, n14) = t1.search(14)\n",
    "\n",
    "assert not b14, 'Test F: Deletion of node 14 failed -- it still exists in the tree.'\n",
    "(b,n) = t1.search(10)\n",
    "assert n.right != None , 'Test G failed: deletion of node 14 not handled correctly'\n",
    "assert n.right.key == 12, f'Test H failed: deletion of node 14 not handled correctly: {n.right.key}'\n",
    "\n",
    "# Let's delete node 18 in the tree.\n",
    "# It should be replaced by 22.\n",
    "t1.delete(18)\n",
    "(b18, n18) = t1.search(18)\n",
    "assert not b18, 'Test I: Deletion of node 18 failed'\n",
    "assert t1.right.key == 22 , ' Test J: Replacement of node with successor failed.'\n",
    "assert t1.right.right.left == None, ' Test K: replacement of node with uccessor failed -- you did not delete the successor leaf properly?'\n",
    "\n",
    "print('-- All tests passed --')"
   ]
  },
  {
   "cell_type": "markdown",
   "id": "b8dd77a0-65f6-4332-86bb-f16e3d3501f3",
   "metadata": {},
   "source": [
    "Let s1,...,sj be a sequence of j ≥ 1 keys inserted, wherein each si is a number between 0 and\n",
    "n-1 and each number in the sequence is unique.\n",
    "\n",
    "We prove that if the sequence yields a tree of height j (worst possible case) then s1 must be the\n",
    "minimum or maximum element in the sequence.\n",
    "\n",
    "Proposition: If the sequence s1, .. sj yeilds a tree of height j, then s1 is either the minimum or the\n",
    "maximum element.\n",
    "\n",
    "Proof: By contradiction.\n",
    "\n",
    "    Assume for the purposes of contradiction that the tree has the worst possible\n",
    "    height of j, and s1 is neither the maximum nor the minimum element.\n",
    "    \n",
    "    This implies that s1 has a left and a right subtree with height at least one.\n",
    "    \n",
    "    This implies that the height of s1 is strictly less than j.\n",
    "    \n",
    "    This contradicts the original assumption of the height being j.\n",
    "    \n",
    "    This implies that s1 must be the maximum or the minimum element.\n",
    "    \n",
    "Q.E.D."
   ]
  },
  {
   "cell_type": "markdown",
   "id": "f458b189-2f35-45b9-ad44-c57648572cde",
   "metadata": {},
   "source": [
    "## Hight of a randomly generated BST:"
   ]
  },
  {
   "cell_type": "code",
   "execution_count": 36,
   "id": "5a53d086-d6ff-4619-846e-5690cc16a7c3",
   "metadata": {},
   "outputs": [],
   "source": [
    "import random\n",
    "\n",
    "# Randomly generate a BST\n",
    "def run_single_experiment(n):\n",
    "    list = [i for i in range(n)]\n",
    "    random.shuffle(list)\n",
    "    root = Node(list[0])\n",
    "    for i in range(1, n):\n",
    "        root.insert(list[i])\n",
    "    return root.height()\n",
    "\n",
    "# Run multiple experiments\n",
    "def run_multiple_trials(n, num_trials):\n",
    "    lst_of_depths = [run_single_experiment(n) for _ in range(num_trials)]\n",
    "    return (sum(lst_of_depths) / len(lst_of_depths), lst_of_depths)\n",
    "                                                             "
   ]
  },
  {
   "cell_type": "code",
   "execution_count": 41,
   "id": "6ed4c8a4-f034-40cf-ad06-dd4bbc2e9822",
   "metadata": {},
   "outputs": [
    {
     "name": "stdout",
     "output_type": "stream",
     "text": [
      "Average depth for 64 = 11.683\n",
      "Average depth for 128 = 14.209\n",
      "-- Passed all tests --\n"
     ]
    },
    {
     "data": {
      "image/png": "[encoded data removed]",
      "text/plain": [
       "<Figure size 432x288 with 1 Axes>"
      ]
     },
     "metadata": {
      "needs_background": "light"
     },
     "output_type": "display_data"
    },
    {
     "data": {
      "image/png": "[encoded data removed]",
      "text/plain": [
       "<Figure size 432x288 with 1 Axes>"
      ]
     },
     "metadata": {
      "needs_background": "light"
     },
     "output_type": "display_data"
    },
    {
     "data": {
      "image/png": "[encoded data removed]",
      "text/plain": [
       "<Figure size 432x288 with 1 Axes>"
      ]
     },
     "metadata": {
      "needs_background": "light"
     },
     "output_type": "display_data"
    }
   ],
   "source": [
    "from matplotlib import pyplot as plt\n",
    "import math\n",
    "\n",
    "(avg64, lst_of_results_64) = run_multiple_trials(64, 1000)\n",
    "plt.hist(lst_of_results_64)\n",
    "plt.xlim(0,64)\n",
    "plt.xlabel('Depth of Tree')\n",
    "plt.ylabel('Frequency')\n",
    "plt.title('Histogram of depths for n = 64')\n",
    "print(f'Average depth for 64 = {avg64}')\n",
    "assert avg64 <= 12 and avg64 >= 8\n",
    "\n",
    "plt.figure()\n",
    "(avg128, lst_of_results_128) = run_multiple_trials(128, 1000)\n",
    "print(f'Average depth for 128 = {avg128}')\n",
    "assert avg128 <= 16 and avg128 >= 12\n",
    "\n",
    "plt.hist(lst_of_results_128)\n",
    "plt.xlim(0,128)\n",
    "plt.xlabel('Depth of Tree')\n",
    "plt.ylabel('Frequency')\n",
    "plt.title('Histogram of depths for n = 128')\n",
    "\n",
    "nmin=16\n",
    "nmax=64\n",
    "lst_of_average_depths = [ run_multiple_trials(j,1000)[0] for j in range(nmin,nmax)]\n",
    "plt.figure()\n",
    "l1 = plt.plot(range(nmin,nmax), lst_of_average_depths,label='Avg. Depth')\n",
    "plt.xlabel('n')\n",
    "plt.ylabel('depth')\n",
    "l2 = plt.plot(range(nmin,nmax), [1.6* math.log(j)/math.log(2) for j in range(nmin,nmax)],'--r',label='1.6log2(n)')\n",
    "l3 = plt.plot(range(nmin,nmax), [2.2* math.log(j)/math.log(2) for j in range(nmin,nmax)],'--b',label='2.2log2(n)')\n",
    "plt.title('Average depth as a function of n and comparison with 1.6 log2(n), 2.2 log2(n)')\n",
    "print('-- Passed all tests --')"
   ]
  },
  {
   "cell_type": "markdown",
   "id": "5bdccdc6-f6d7-4aa3-891c-77a4e8e0881d",
   "metadata": {},
   "source": [
    "### This shows that the height of a randomly generated BST is concentrated between 1.8lg(n) and 2.2lg(n)."
   ]
  },
  {
   "cell_type": "code",
   "execution_count": null,
   "id": "a6eade5e-b9eb-49d8-b69b-d5d9644ca5c7",
   "metadata": {},
   "outputs": [],
   "source": []
  }
 ],
 "metadata": {
  "kernelspec": {
   "display_name": "Python 3 (ipykernel)",
   "language": "python",
   "name": "python3"
  },
  "language_info": {
   "codemirror_mode": {
    "name": "ipython",
    "version": 3
   },
   "file_extension": ".py",
   "mimetype": "text/x-python",
   "name": "python",
   "nbconvert_exporter": "python",
   "pygments_lexer": "ipython3",
   "version": "3.9.7"
  }
 },
 "nbformat": 4,
 "nbformat_minor": 5
}
